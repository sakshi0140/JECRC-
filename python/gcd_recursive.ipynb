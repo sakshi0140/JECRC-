{
 "cells": [
  {
   "cell_type": "code",
   "execution_count": 1,
   "id": "fe13d006",
   "metadata": {},
   "outputs": [
    {
     "name": "stdout",
     "output_type": "stream",
     "text": [
      "enter the first no. :10\n",
      "enter the second no. :20\n",
      "GCD =  10\n"
     ]
    }
   ],
   "source": [
    "#calculate GCD using recursion\n",
    "def gcd(a,b):\n",
    "    if(b==0):\n",
    "        return a\n",
    "    else:\n",
    "        return gcd(b,a%b)\n",
    "x=int(input(\"enter the first no. :\"))\n",
    "y=int(input(\"enter the second no. :\"))\n",
    "print(\"GCD = \",gcd(x,y))"
   ]
  },
  {
   "cell_type": "code",
   "execution_count": null,
   "id": "3320cf0d",
   "metadata": {},
   "outputs": [],
   "source": []
  }
 ],
 "metadata": {
  "kernelspec": {
   "display_name": "Python 3 (ipykernel)",
   "language": "python",
   "name": "python3"
  },
  "language_info": {
   "codemirror_mode": {
    "name": "ipython",
    "version": 3
   },
   "file_extension": ".py",
   "mimetype": "text/x-python",
   "name": "python",
   "nbconvert_exporter": "python",
   "pygments_lexer": "ipython3",
   "version": "3.11.4"
  }
 },
 "nbformat": 4,
 "nbformat_minor": 5
}

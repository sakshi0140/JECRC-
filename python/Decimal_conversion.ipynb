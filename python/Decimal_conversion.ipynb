{
 "cells": [
  {
   "cell_type": "code",
   "execution_count": 1,
   "id": "d9fd0ae6",
   "metadata": {},
   "outputs": [
    {
     "name": "stdout",
     "output_type": "stream",
     "text": [
      "Enter the decimal no.: 10\n",
      "Binary Equivalent = 0b1010\n",
      "Octal Equivalent = 0o12\n",
      "HexaDecimal Equivalent = 0xa\n"
     ]
    }
   ],
   "source": [
    "d=int(input(\"Enter the decimal no.: \"))\n",
    "print(\"Binary Equivalent =\", bin(d))\n",
    "print(\"Octal Equivalent =\", oct(d))\n",
    "print(\"HexaDecimal Equivalent =\", hex(d))"
   ]
  },
  {
   "cell_type": "code",
   "execution_count": null,
   "id": "e91c0227",
   "metadata": {},
   "outputs": [],
   "source": []
  }
 ],
 "metadata": {
  "kernelspec": {
   "display_name": "Python 3 (ipykernel)",
   "language": "python",
   "name": "python3"
  },
  "language_info": {
   "codemirror_mode": {
    "name": "ipython",
    "version": 3
   },
   "file_extension": ".py",
   "mimetype": "text/x-python",
   "name": "python",
   "nbconvert_exporter": "python",
   "pygments_lexer": "ipython3",
   "version": "3.11.4"
  }
 },
 "nbformat": 4,
 "nbformat_minor": 5
}

{
 "cells": [
  {
   "cell_type": "code",
   "execution_count": 1,
   "id": "592baec7",
   "metadata": {},
   "outputs": [
    {
     "name": "stdout",
     "output_type": "stream",
     "text": [
      "Enter the value of x1: 10\n",
      "Enter the value of y1: 5\n",
      "Enter the value of x2: 10\n",
      "Enter the value of y2: 5\n",
      "Distance=  0.0\n"
     ]
    }
   ],
   "source": [
    "import math\n",
    "x1=eval(input(\"Enter the value of x1: \"))\n",
    "y1=eval(input(\"Enter the value of y1: \"))\n",
    "x2=eval(input(\"Enter the value of x2: \"))\n",
    "y2=eval(input(\"Enter the value of y2: \"))\n",
    "dis=math.sqrt((x2-x1)**2 + (y2-y1)**2)\n",
    "print(\"Distance= \", dis)"
   ]
  },
  {
   "cell_type": "code",
   "execution_count": null,
   "id": "82b93b8f",
   "metadata": {},
   "outputs": [],
   "source": []
  }
 ],
 "metadata": {
  "kernelspec": {
   "display_name": "Python 3 (ipykernel)",
   "language": "python",
   "name": "python3"
  },
  "language_info": {
   "codemirror_mode": {
    "name": "ipython",
    "version": 3
   },
   "file_extension": ".py",
   "mimetype": "text/x-python",
   "name": "python",
   "nbconvert_exporter": "python",
   "pygments_lexer": "ipython3",
   "version": "3.11.4"
  }
 },
 "nbformat": 4,
 "nbformat_minor": 5
}

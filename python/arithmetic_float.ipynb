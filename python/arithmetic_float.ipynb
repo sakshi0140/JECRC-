{
 "cells": [
  {
   "cell_type": "code",
   "execution_count": null,
   "id": "c844b8fc",
   "metadata": {},
   "outputs": [],
   "source": [
    "a=float(input(\"Enter the first no.: \"))\n",
    "b=float(input(\"Enter the second no.: \"))\n",
    "print(\"Addition = \", a+b)\n",
    "print(\"Subtraction = \", a-b)\n",
    "print(\"Multiplication = \", a*b)\n",
    "print(\"Division = \", a/b)\n",
    "print(\"Modulus = \", a%b)"
   ]
  },
  {
   "cell_type": "code",
   "execution_count": null,
   "id": "e33e77f3",
   "metadata": {},
   "outputs": [],
   "source": []
  }
 ],
 "metadata": {
  "kernelspec": {
   "display_name": "Python 3 (ipykernel)",
   "language": "python",
   "name": "python3"
  },
  "language_info": {
   "codemirror_mode": {
    "name": "ipython",
    "version": 3
   },
   "file_extension": ".py",
   "mimetype": "text/x-python",
   "name": "python",
   "nbconvert_exporter": "python",
   "pygments_lexer": "ipython3",
   "version": "3.11.4"
  }
 },
 "nbformat": 4,
 "nbformat_minor": 5
}

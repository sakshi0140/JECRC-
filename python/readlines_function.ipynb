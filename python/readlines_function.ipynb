{
 "cells": [
  {
   "cell_type": "code",
   "execution_count": 10,
   "id": "c72651d2",
   "metadata": {},
   "outputs": [
    {
     "name": "stdout",
     "output_type": "stream",
     "text": [
      "file created successfully\n",
      "['good morining!!hello world!']\n"
     ]
    }
   ],
   "source": [
    "#readlines function\n",
    "fun = open(\"file.txt\",'w')\n",
    "fun.write(\"good morining!!\")\n",
    "fun.write(\"hello world!\")\n",
    "fun.close()\n",
    "print(\"file created successfully\")\n",
    "fun = open(\"file.txt\",'r')\n",
    "print(fun.readlines())"
   ]
  },
  {
   "cell_type": "code",
   "execution_count": null,
   "id": "9c0d8930",
   "metadata": {},
   "outputs": [],
   "source": []
  },
  {
   "cell_type": "code",
   "execution_count": null,
   "id": "fd70ddc3",
   "metadata": {},
   "outputs": [],
   "source": []
  }
 ],
 "metadata": {
  "kernelspec": {
   "display_name": "Python 3 (ipykernel)",
   "language": "python",
   "name": "python3"
  },
  "language_info": {
   "codemirror_mode": {
    "name": "ipython",
    "version": 3
   },
   "file_extension": ".py",
   "mimetype": "text/x-python",
   "name": "python",
   "nbconvert_exporter": "python",
   "pygments_lexer": "ipython3",
   "version": "3.11.4"
  }
 },
 "nbformat": 4,
 "nbformat_minor": 5
}

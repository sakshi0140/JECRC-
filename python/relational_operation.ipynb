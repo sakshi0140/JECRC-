{
 "cells": [
  {
   "cell_type": "code",
   "execution_count": 2,
   "id": "de61b4d7",
   "metadata": {},
   "outputs": [
    {
     "name": "stdout",
     "output_type": "stream",
     "text": [
      "Enter the first no.: 10\n",
      "Enter the second no.: 5\n",
      "Strings are equal:  False\n",
      "First string is greater than second string:  True\n",
      "First string is less than second string:  False\n",
      "First string is greater than equal to second string:  True\n",
      "First string is less than equal to second string:  False\n",
      "strings are not equal:  True\n"
     ]
    }
   ],
   "source": [
    "a=input(\"Enter the first no.: \"))\n",
    "b=input(\"Enter the second no.: \"))\n",
    "print(\"Strings are equal: \", a==b)\n",
    "print(\"First string is greater than second string: \", a>b)\n",
    "print(\"First string is less than second string: \", a<b)\n",
    "print(\"First string is greater than equal to second string: \", a>=b)\n",
    "print(\"First string is less than equal to second string: \", a<=b)\n",
    "print(\"strings are not equal: \", a!=b)"
   ]
  },
  {
   "cell_type": "code",
   "execution_count": null,
   "id": "0458860d",
   "metadata": {},
   "outputs": [],
   "source": []
  }
 ],
 "metadata": {
  "kernelspec": {
   "display_name": "Python 3 (ipykernel)",
   "language": "python",
   "name": "python3"
  },
  "language_info": {
   "codemirror_mode": {
    "name": "ipython",
    "version": 3
   },
   "file_extension": ".py",
   "mimetype": "text/x-python",
   "name": "python",
   "nbconvert_exporter": "python",
   "pygments_lexer": "ipython3",
   "version": "3.11.4"
  }
 },
 "nbformat": 4,
 "nbformat_minor": 5
}

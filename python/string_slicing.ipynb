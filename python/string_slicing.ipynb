{
 "cells": [
  {
   "cell_type": "code",
   "execution_count": 1,
   "id": "782cfa6a",
   "metadata": {},
   "outputs": [
    {
     "name": "stdout",
     "output_type": "stream",
     "text": [
      "Welc\n",
      "nt  oe\n",
      "Wloet yhn\n",
      "le h\n",
      "e\n"
     ]
    }
   ],
   "source": [
    "str1=\"Welcome to python\"\n",
    "print(str1[0:4])\n",
    "print(str1[::-3])\n",
    "print(str1[::2])\n",
    "print(str1[2::4])\n",
    "print(str1[1::-3])"
   ]
  },
  {
   "cell_type": "code",
   "execution_count": null,
   "id": "bdded61d",
   "metadata": {},
   "outputs": [],
   "source": []
  }
 ],
 "metadata": {
  "kernelspec": {
   "display_name": "Python 3 (ipykernel)",
   "language": "python",
   "name": "python3"
  },
  "language_info": {
   "codemirror_mode": {
    "name": "ipython",
    "version": 3
   },
   "file_extension": ".py",
   "mimetype": "text/x-python",
   "name": "python",
   "nbconvert_exporter": "python",
   "pygments_lexer": "ipython3",
   "version": "3.11.4"
  }
 },
 "nbformat": 4,
 "nbformat_minor": 5
}

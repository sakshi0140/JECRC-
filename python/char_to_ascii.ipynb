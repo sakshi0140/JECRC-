{
 "cells": [
  {
   "cell_type": "code",
   "execution_count": 2,
   "id": "26a37183",
   "metadata": {},
   "outputs": [
    {
     "name": "stdout",
     "output_type": "stream",
     "text": [
      "Enter the character: a\n",
      "ASCII Value of a is 97\n"
     ]
    }
   ],
   "source": [
    "a=input(\"Enter the character: \")\n",
    "b=ord(a)\n",
    "print(\"ASCII Value of\", a, \"is\", b)"
   ]
  },
  {
   "cell_type": "code",
   "execution_count": null,
   "id": "8dfeb808",
   "metadata": {},
   "outputs": [],
   "source": []
  }
 ],
 "metadata": {
  "kernelspec": {
   "display_name": "Python 3 (ipykernel)",
   "language": "python",
   "name": "python3"
  },
  "language_info": {
   "codemirror_mode": {
    "name": "ipython",
    "version": 3
   },
   "file_extension": ".py",
   "mimetype": "text/x-python",
   "name": "python",
   "nbconvert_exporter": "python",
   "pygments_lexer": "ipython3",
   "version": "3.11.4"
  }
 },
 "nbformat": 4,
 "nbformat_minor": 5
}

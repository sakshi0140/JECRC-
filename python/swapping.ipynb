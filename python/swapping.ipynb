{
 "cells": [
  {
   "cell_type": "code",
   "execution_count": 3,
   "id": "77344319",
   "metadata": {},
   "outputs": [
    {
     "name": "stdout",
     "output_type": "stream",
     "text": [
      "Enter the value of a: 1\n",
      "Enter the value of b: 2\n",
      "Before Swapping: \n",
      "a= 1  b= 2\n",
      "After Swapping: \n",
      "a= 2  b= 1\n"
     ]
    }
   ],
   "source": [
    "#swapping with third variable\n",
    "a=int(input(\"Enter the value of a: \"))\n",
    "b=int(input(\"Enter the value of b: \"))\n",
    "print(\"Before Swapping: \")\n",
    "print(\"a=\", a, \" b=\", b)\n",
    "temp=a\n",
    "a=b\n",
    "b=temp\n",
    "print(\"After Swapping: \")\n",
    "print(\"a=\", a, \" b=\", b)"
   ]
  },
  {
   "cell_type": "code",
   "execution_count": 4,
   "id": "5b10af66",
   "metadata": {},
   "outputs": [
    {
     "name": "stdout",
     "output_type": "stream",
     "text": [
      "Enter the value of a: 1\n",
      "Enter the value of b: 2\n",
      "Before Swapping: \n",
      "a= 1  b= 2\n",
      "After Swapping: \n",
      "a= 2  b= 1\n"
     ]
    }
   ],
   "source": [
    "#swapping without third variable\n",
    "a=int(input(\"Enter the value of a: \"))\n",
    "b=int(input(\"Enter the value of b: \"))\n",
    "print(\"Before Swapping: \")\n",
    "print(\"a=\", a, \" b=\", b)\n",
    "a, b=b, a\n",
    "print(\"After Swapping: \")\n",
    "print(\"a=\", a, \" b=\", b)"
   ]
  },
  {
   "cell_type": "code",
   "execution_count": null,
   "id": "06c1c1ff",
   "metadata": {},
   "outputs": [],
   "source": []
  }
 ],
 "metadata": {
  "kernelspec": {
   "display_name": "Python 3 (ipykernel)",
   "language": "python",
   "name": "python3"
  },
  "language_info": {
   "codemirror_mode": {
    "name": "ipython",
    "version": 3
   },
   "file_extension": ".py",
   "mimetype": "text/x-python",
   "name": "python",
   "nbconvert_exporter": "python",
   "pygments_lexer": "ipython3",
   "version": "3.11.4"
  }
 },
 "nbformat": 4,
 "nbformat_minor": 5
}

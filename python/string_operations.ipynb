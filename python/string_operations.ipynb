{
 "cells": [
  {
   "cell_type": "code",
   "execution_count": 1,
   "id": "0fe99c89",
   "metadata": {},
   "outputs": [
    {
     "name": "stdout",
     "output_type": "stream",
     "text": [
      "string length: 11\n",
      "string index: 2\n",
      "string concatanation: hello worldwelcome to python\n",
      "string join: h-e-l-l-o- -w-o-r-l-d\n",
      "string strip: hello world\n",
      "string lstrip: hello world\n",
      "string lstrip: hello world\n",
      "string rstrip: hello world\n",
      "string uppercase: HELLO WORLD\n",
      "string lowercase: hello world\n",
      "string starts with python ? -- False\n",
      "string starts with welcome?--  True\n",
      "string ends with to ? --  False\n",
      "string ends with python? --  True\n",
      "string count of world- 1\n",
      "string split:  ['hello', 'world']\n",
      "string find python :  11\n"
     ]
    }
   ],
   "source": [
    "str1=\"hello world\"\n",
    "str2=\"welcome to python\"\n",
    "tmp=\"-\"\n",
    "print(\"string length:\",len(str1))\n",
    "print(\"string index:\",str1.index('l'))\n",
    "print(\"string concatanation:\",str1+str2)\n",
    "print(\"string join:\",tmp.join(str1))\n",
    "print(\"string strip:\",str1.strip())\n",
    "print(\"string lstrip:\",str1.lstrip())\n",
    "print(\"string lstrip:\",str1.lstrip())\n",
    "print(\"string rstrip:\",str1.rstrip())\n",
    "print(\"string uppercase:\",str1.upper())\n",
    "print(\"string lowercase:\",str1.lower())\n",
    "print(\"string starts with python ? --\",str2.startswith(\"python\"))\n",
    "print(\"string starts with welcome?-- \",str2.startswith(\"welcome\"))\n",
    "print(\"string ends with to ? -- \",str2.endswith(\"to\"))\n",
    "print(\"string ends with python? -- \",str2.endswith(\"python\"))\n",
    "print(\"string count of world-\",str1.count(\"world\"))\n",
    "print(\"string split: \",str1.split())\n",
    "print(\"string find python : \",str2.find('python'))\n"
   ]
  },
  {
   "cell_type": "code",
   "execution_count": null,
   "id": "b75facbc",
   "metadata": {},
   "outputs": [],
   "source": []
  }
 ],
 "metadata": {
  "kernelspec": {
   "display_name": "Python 3 (ipykernel)",
   "language": "python",
   "name": "python3"
  },
  "language_info": {
   "codemirror_mode": {
    "name": "ipython",
    "version": 3
   },
   "file_extension": ".py",
   "mimetype": "text/x-python",
   "name": "python",
   "nbconvert_exporter": "python",
   "pygments_lexer": "ipython3",
   "version": "3.11.4"
  }
 },
 "nbformat": 4,
 "nbformat_minor": 5
}

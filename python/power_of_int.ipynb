{
 "cells": [
  {
   "cell_type": "code",
   "execution_count": 2,
   "id": "7df4d2e8",
   "metadata": {},
   "outputs": [
    {
     "name": "stdout",
     "output_type": "stream",
     "text": [
      "Enter the no.: 2\n",
      "Enter the power: 3\n",
      "Answer = 8\n"
     ]
    }
   ],
   "source": [
    "n=int(input(\"Enter the no.: \"))\n",
    "p=int(input(\"Enter the power: \"))\n",
    "print(\"Answer =\", n**p)"
   ]
  },
  {
   "cell_type": "code",
   "execution_count": null,
   "id": "09109119",
   "metadata": {},
   "outputs": [],
   "source": []
  }
 ],
 "metadata": {
  "kernelspec": {
   "display_name": "Python 3 (ipykernel)",
   "language": "python",
   "name": "python3"
  },
  "language_info": {
   "codemirror_mode": {
    "name": "ipython",
    "version": 3
   },
   "file_extension": ".py",
   "mimetype": "text/x-python",
   "name": "python",
   "nbconvert_exporter": "python",
   "pygments_lexer": "ipython3",
   "version": "3.11.4"
  }
 },
 "nbformat": 4,
 "nbformat_minor": 5
}

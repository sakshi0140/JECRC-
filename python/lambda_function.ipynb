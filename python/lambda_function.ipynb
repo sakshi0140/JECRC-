{
 "cells": [
  {
   "cell_type": "code",
   "execution_count": 1,
   "id": "f4d3dc0d",
   "metadata": {},
   "outputs": [
    {
     "name": "stdout",
     "output_type": "stream",
     "text": [
      "enter the first no. : 10\n",
      "enter the second no. : 20\n",
      "Addition= 30\n",
      "Subtraction= -10\n"
     ]
    }
   ],
   "source": [
    "#lambda function\n",
    "add=lambda a,b : a+b\n",
    "sub=lambda a,b : a-b\n",
    "x=int(input(\"enter the first no. : \"))\n",
    "y=int(input(\"enter the second no. : \"))\n",
    "print(\"Addition=\",add(x,y))\n",
    "print(\"Subtraction=\",sub(x,y))"
   ]
  },
  {
   "cell_type": "code",
   "execution_count": null,
   "id": "57f19559",
   "metadata": {},
   "outputs": [],
   "source": []
  }
 ],
 "metadata": {
  "kernelspec": {
   "display_name": "Python 3 (ipykernel)",
   "language": "python",
   "name": "python3"
  },
  "language_info": {
   "codemirror_mode": {
    "name": "ipython",
    "version": 3
   },
   "file_extension": ".py",
   "mimetype": "text/x-python",
   "name": "python",
   "nbconvert_exporter": "python",
   "pygments_lexer": "ipython3",
   "version": "3.11.4"
  }
 },
 "nbformat": 4,
 "nbformat_minor": 5
}

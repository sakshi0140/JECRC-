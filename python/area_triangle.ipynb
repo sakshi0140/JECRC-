{
 "cells": [
  {
   "cell_type": "code",
   "execution_count": 3,
   "id": "bd5f8ea0",
   "metadata": {},
   "outputs": [
    {
     "name": "stdout",
     "output_type": "stream",
     "text": [
      "Enter the value of side1: 50\n",
      "Enter the value of side2: 60\n",
      "Enter the value of side3: 100\n",
      "Area = 1139.9013115177997\n"
     ]
    }
   ],
   "source": [
    "#herons formula\n",
    "import math\n",
    "a=int(input(\"Enter the value of side1: \"))\n",
    "b=int(input(\"Enter the value of side2: \"))\n",
    "c=int(input(\"Enter the value of side3: \"))\n",
    "s=(a+b+c)/2\n",
    "area=math.sqrt(s*(s-a)*(s-b)*(s-c))\n",
    "print(\"Area =\", area)"
   ]
  },
  {
   "cell_type": "code",
   "execution_count": null,
   "id": "38e63be1",
   "metadata": {},
   "outputs": [],
   "source": []
  }
 ],
 "metadata": {
  "kernelspec": {
   "display_name": "Python 3 (ipykernel)",
   "language": "python",
   "name": "python3"
  },
  "language_info": {
   "codemirror_mode": {
    "name": "ipython",
    "version": 3
   },
   "file_extension": ".py",
   "mimetype": "text/x-python",
   "name": "python",
   "nbconvert_exporter": "python",
   "pygments_lexer": "ipython3",
   "version": "3.11.4"
  }
 },
 "nbformat": 4,
 "nbformat_minor": 5
}

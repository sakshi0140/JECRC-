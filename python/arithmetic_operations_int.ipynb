{
 "cells": [
  {
   "cell_type": "code",
   "execution_count": 1,
   "id": "d42994a9",
   "metadata": {},
   "outputs": [
    {
     "name": "stdout",
     "output_type": "stream",
     "text": [
      "Enter the first no.: 10\n",
      "Enter the second no.: 5\n",
      "Addition =  15\n",
      "Subtraction =  5\n",
      "Multiplication =  50\n",
      "Division =  2.0\n",
      "Modulus =  0\n"
     ]
    }
   ],
   "source": [
    "a=int(input(\"Enter the first no.: \"))\n",
    "b=int(input(\"Enter the second no.: \"))\n",
    "print(\"Addition = \", a+b)\n",
    "print(\"Subtraction = \", a-b)\n",
    "print(\"Multiplication = \", a*b)\n",
    "print(\"Division = \", a/b)\n",
    "print(\"Modulus = \", a%b)"
   ]
  },
  {
   "cell_type": "code",
   "execution_count": null,
   "id": "d28d5f2f",
   "metadata": {},
   "outputs": [],
   "source": []
  }
 ],
 "metadata": {
  "kernelspec": {
   "display_name": "Python 3 (ipykernel)",
   "language": "python",
   "name": "python3"
  },
  "language_info": {
   "codemirror_mode": {
    "name": "ipython",
    "version": 3
   },
   "file_extension": ".py",
   "mimetype": "text/x-python",
   "name": "python",
   "nbconvert_exporter": "python",
   "pygments_lexer": "ipython3",
   "version": "3.11.4"
  }
 },
 "nbformat": 4,
 "nbformat_minor": 5
}

{
 "cells": [
  {
   "cell_type": "code",
   "execution_count": 1,
   "id": "2c2540bc",
   "metadata": {},
   "outputs": [
    {
     "name": "stdout",
     "output_type": "stream",
     "text": [
      "Text appended successfully\n"
     ]
    }
   ],
   "source": [
    "f=open(\"file.txt\", 'a')\n",
    "f.write(\"What you doin ?\")\n",
    "f.close()\n",
    "print(\"Text appended successfully\")"
   ]
  },
  {
   "cell_type": "code",
   "execution_count": null,
   "id": "f6177c66",
   "metadata": {},
   "outputs": [],
   "source": []
  }
 ],
 "metadata": {
  "kernelspec": {
   "display_name": "Python 3 (ipykernel)",
   "language": "python",
   "name": "python3"
  },
  "language_info": {
   "codemirror_mode": {
    "name": "ipython",
    "version": 3
   },
   "file_extension": ".py",
   "mimetype": "text/x-python",
   "name": "python",
   "nbconvert_exporter": "python",
   "pygments_lexer": "ipython3",
   "version": "3.11.4"
  }
 },
 "nbformat": 4,
 "nbformat_minor": 5
}
